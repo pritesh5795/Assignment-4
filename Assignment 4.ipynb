{
 "cells": [
  {
   "cell_type": "code",
   "execution_count": 31,
   "id": "c83b1815",
   "metadata": {},
   "outputs": [],
   "source": [
    "#Q.1 What exactly is []?\n",
    "#Ans. [] is basically represent a list. "
   ]
  },
  {
   "cell_type": "code",
   "execution_count": 32,
   "id": "e7d92446",
   "metadata": {},
   "outputs": [
    {
     "data": {
      "text/plain": [
       "[2, 4, 6, 'hello', 8, 10]"
      ]
     },
     "execution_count": 32,
     "metadata": {},
     "output_type": "execute_result"
    }
   ],
   "source": [
    "#Q.2 In a list of values stored in a variable called spam, how would you assign the value 'hello' as the third value? (Assume [2, 4, 6, 8, 10] are in spam.)\n",
    "#Ans. \n",
    "spam = [2,4,6,8,10]\n",
    "spam.insert(3,\"hello\")\n",
    "spam"
   ]
  },
  {
   "cell_type": "code",
   "execution_count": 33,
   "id": "a8135db7",
   "metadata": {},
   "outputs": [
    {
     "data": {
      "text/plain": [
       "'d'"
      ]
     },
     "execution_count": 33,
     "metadata": {},
     "output_type": "execute_result"
    }
   ],
   "source": [
    "#Q.3 What is the value of spam[int(int('3' * 2) / 11)]?\n",
    "#    Let's pretend the spam includes the list ['a', 'b', 'c', 'd'] \n",
    "#Ans. \n",
    "spam = ['a', 'b', 'c', 'd']\n",
    "spam[int(int('3' * 2) / 11)]"
   ]
  },
  {
   "cell_type": "code",
   "execution_count": 34,
   "id": "9bf9f6ba",
   "metadata": {},
   "outputs": [
    {
     "data": {
      "text/plain": [
       "'d'"
      ]
     },
     "execution_count": 34,
     "metadata": {},
     "output_type": "execute_result"
    }
   ],
   "source": [
    "#Q.4 spam = ['a', 'b', 'c', 'd']\n",
    "#Ans.\n",
    "spam = ['a', 'b', 'c', 'd']\n",
    "spam[-1]"
   ]
  },
  {
   "cell_type": "code",
   "execution_count": 35,
   "id": "80056409",
   "metadata": {},
   "outputs": [
    {
     "data": {
      "text/plain": [
       "['a', 'b']"
      ]
     },
     "execution_count": 35,
     "metadata": {},
     "output_type": "execute_result"
    }
   ],
   "source": [
    "#Q.5 spam = ['a', 'b', 'c', 'd']\n",
    "#Ans.\n",
    "spam = ['a', 'b', 'c', 'd']\n",
    "spam[:2]\n"
   ]
  },
  {
   "cell_type": "code",
   "execution_count": 36,
   "id": "436bd950",
   "metadata": {},
   "outputs": [
    {
     "data": {
      "text/plain": [
       "1"
      ]
     },
     "execution_count": 36,
     "metadata": {},
     "output_type": "execute_result"
    }
   ],
   "source": [
    "#Q.6 What is the value of bacon.index('cat')?\n",
    "#    consider bacon = [3.14, 'cat', 11, 'cat', True]\n",
    "#Ans.\n",
    "bacon = [3.14, 'cat', 11, 'cat', True]\n",
    "bacon.index('cat')"
   ]
  },
  {
   "cell_type": "code",
   "execution_count": 37,
   "id": "712f350f",
   "metadata": {},
   "outputs": [
    {
     "data": {
      "text/plain": [
       "[3.14, 'cat', 11, 'cat', True, 99]"
      ]
     },
     "execution_count": 37,
     "metadata": {},
     "output_type": "execute_result"
    }
   ],
   "source": [
    "#Q.7 How does bacon.append(99) change the look of the list value in bacon?\n",
    "#    consider bacon = [3.14, 'cat', 11, 'cat', True]\n",
    "#Ans.\n",
    "bacon = [3.14, 'cat', 11, 'cat', True]\n",
    "bacon.append(99)\n",
    "bacon"
   ]
  },
  {
   "cell_type": "code",
   "execution_count": 38,
   "id": "0049575e",
   "metadata": {},
   "outputs": [
    {
     "data": {
      "text/plain": [
       "[3.14, 11, 'cat', True]"
      ]
     },
     "execution_count": 38,
     "metadata": {},
     "output_type": "execute_result"
    }
   ],
   "source": [
    "#Q.8 How does bacon.remove('cat') change the look of the list in bacon?\n",
    "#    consider consider bacon = [3.14, 'cat', 11, 'cat', True]\n",
    "#Ans.\n",
    "bacon = [3.14, 'cat', 11, 'cat', True]\n",
    "bacon.remove('cat')\n",
    "bacon"
   ]
  },
  {
   "cell_type": "code",
   "execution_count": 39,
   "id": "f76bd964",
   "metadata": {},
   "outputs": [],
   "source": [
    "#Q.9 What are the list concatenation and list replication operators?\n",
    "#Ans. concatenation = '+'\n",
    "#     replication   = '*'"
   ]
  },
  {
   "cell_type": "code",
   "execution_count": 40,
   "id": "a54af067",
   "metadata": {},
   "outputs": [],
   "source": [
    "#Q.10 What is difference between the list methods append() and insert()?\n",
    "#Ans. append() = append object to the end of the list.\n",
    "#     insert() = insert object before index."
   ]
  },
  {
   "cell_type": "code",
   "execution_count": 41,
   "id": "222acc62",
   "metadata": {},
   "outputs": [],
   "source": [
    "#Q.11 What are the two methods for removing items from a list?\n",
    "#Ans. remove() = remove very first given element from list.\n",
    "#     pop()    = remove element from list based on index given.\n",
    "#     clear()  = remove all present in list."
   ]
  },
  {
   "cell_type": "code",
   "execution_count": 42,
   "id": "8fc6163f",
   "metadata": {},
   "outputs": [],
   "source": [
    "#Q.12 how list values and string values are identical?\n",
    "#Ans. first, list are mutable and string are immutable. second, element of the list can be diffrent type whereas string only contain characters that are all string type.\n",
    "#     list are identical to string which are collection of charachters. elements of list do not have same type."
   ]
  },
  {
   "cell_type": "code",
   "execution_count": 43,
   "id": "ae83f605",
   "metadata": {},
   "outputs": [],
   "source": [
    "#Q.13 What's the difference between tuples and lists?\n",
    "#Ans. the key difference, list are mutable and tuples are immutable."
   ]
  },
  {
   "cell_type": "code",
   "execution_count": 45,
   "id": "6fa28902",
   "metadata": {},
   "outputs": [],
   "source": [
    "#Q.14 How do you type a tuple value that only contains the integer 42?\n",
    "#Ans. a = (42)"
   ]
  },
  {
   "cell_type": "code",
   "execution_count": 56,
   "id": "5840873c",
   "metadata": {},
   "outputs": [
    {
     "name": "stdout",
     "output_type": "stream",
     "text": [
      "[(1, 'sravan'), (2, 'ojaswi'), (3, 'bobby'), (4, 'rohith'), (5, 'gnanesh')]\n",
      "[(1, 'sravan'), (2, 'ojaswi'), (3, 'bobby'), (4, 'rohith'), (5, 'gnanesh')]\n"
     ]
    }
   ],
   "source": [
    "#Q.15 How do you get a list value's tuple form? How do you get a tuple value's list form?\n",
    "#Ans. eg.1\n",
    "data = [(1, 'sravan'), (2, 'ojaswi'), (3, 'bobby'),\n",
    "        (4, 'rohith'), (5, 'gnanesh')]\n",
    "print(data)\n",
    "#  eg.2\n",
    "roll_no = [1, 2, 3, 4, 5]\n",
    "name = ['sravan', 'ojaswi', 'bobby', 'rohith', 'gnanesh']\n",
    "a = list(zip(roll_no, name))\n",
    "print (a)"
   ]
  },
  {
   "cell_type": "code",
   "execution_count": 57,
   "id": "1c65e27f",
   "metadata": {},
   "outputs": [
    {
     "name": "stdout",
     "output_type": "stream",
     "text": [
      "([1, 'sravan', 2, 'ojaswi', 3, 'bobby', 4, 'rohith'], [5, 'gnanesh'])\n"
     ]
    }
   ],
   "source": [
    "data = ([1, 'sravan', 2, 'ojaswi',3, 'bobby',4, 'rohith'], [5, 'gnanesh'])\n",
    "print(data)"
   ]
  },
  {
   "cell_type": "code",
   "execution_count": 58,
   "id": "71e2fdf3",
   "metadata": {},
   "outputs": [],
   "source": [
    "#Q.16 Variables that \"contain\" list values are not necessarily lists themselves. Instead, what do they contain?\n",
    "#Ans. it contain values of integer, float, list, tuple etc. types"
   ]
  },
  {
   "cell_type": "code",
   "execution_count": 59,
   "id": "aea27963",
   "metadata": {},
   "outputs": [],
   "source": [
    "#Q.17 How do you distinguish between copy.copy() and copy.deepcopy()?\n",
    "#Ans. copy.copy() = return a shallow copy  \n",
    "#     copy.deepcopy() = "
   ]
  },
  {
   "cell_type": "code",
   "execution_count": null,
   "id": "76620268",
   "metadata": {},
   "outputs": [],
   "source": []
  }
 ],
 "metadata": {
  "kernelspec": {
   "display_name": "Python 3 (ipykernel)",
   "language": "python",
   "name": "python3"
  },
  "language_info": {
   "codemirror_mode": {
    "name": "ipython",
    "version": 3
   },
   "file_extension": ".py",
   "mimetype": "text/x-python",
   "name": "python",
   "nbconvert_exporter": "python",
   "pygments_lexer": "ipython3",
   "version": "3.9.7"
  }
 },
 "nbformat": 4,
 "nbformat_minor": 5
}
